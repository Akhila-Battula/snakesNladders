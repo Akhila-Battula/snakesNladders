{
 "cells": [
  {
   "cell_type": "code",
   "execution_count": null,
   "id": "a67bd93e",
   "metadata": {},
   "outputs": [],
   "source": [
    "player1 = 0 \n",
    "player2 = 0 \n",
    " \n",
    "a = range(1,11);b = range(11,21)[::-1];c = range(21,31);d = range(31,41)[::-1];e = range(41,51);f = range(51,61)[::-1];g = range(61,71); \n",
    "h = range(71,81)[::-1];i = range(81,91);j = range(91,101)[::-1] \n",
    "print(\"Snakes and Ladders game\")\n",
    "print(*j)\n",
    "print(*i)\n",
    "print(*h)\n",
    "print(*g)\n",
    "print(*f)\n",
    "print(*e)\n",
    "print(*d)\n",
    "print(*c)\n",
    "print(*b)\n",
    "print(*a)\n",
    " \n",
    "#This method checks for the presence of snakes or ladders in the board\n",
    "def check_for_snakes_and_ladders(n):\n",
    "    ladders = {1:38,4:14,9:31,21:42,28:84,36:44,51:67,71:91,80:100} \n",
    "    snakes = {98:78,95:75,93:73,87:24,64:60,62:19,56:53,49:11,48:26,16:6} \n",
    "    if n in ladders: \n",
    "        print(\"Its a ladder,Climb up\")\n",
    "        n = ladders[n] \n",
    "    elif n in snakes: \n",
    "        print(\"Its a snake!!,Come down\") \n",
    "        n = snakes[n] \n",
    "    return n \n",
    "\n",
    "#takes input from each of the players, prints the current position of the players and checks for the winner of the game\n",
    "def roll_dice(r):\n",
    "    d = int(input(\"roll the dice: \")) \n",
    "    while d < 1 or d > 6: \n",
    "        d = int(input(\"dice should show 1 to 6,Roll the dice again: \")) \n",
    "    d = r + d \n",
    "    return d\n",
    "\n",
    "while player1 < 100 or player2 < 100: \n",
    "    print(\"Its turn of player1\\n\")\n",
    "    player1 = roll_dice(player1) \n",
    "    player1 = check_for_snakes_and_ladders(player1) \n",
    "    print(\"Current status of Player1:\",player1,\"and Player2:\",player2)\n",
    "    if player1 > 99:\n",
    "        print(\"Winner of the game is player1\")\n",
    "        break\n",
    "    print(\"Its turn of player2\\n\")\n",
    "    player2 = roll_dice(player2)\n",
    "    player2 = check_for_snakes_and_ladders(player2)\n",
    "    print(\"Current status of Player1:\",player1,\" and Player2:\",player2)\n",
    "    if player2 > 99:\n",
    "        print(\"Winner of the game is player2\")\n",
    "        break"
   ]
  },
  {
   "cell_type": "code",
   "execution_count": null,
   "id": "48e2a4fa",
   "metadata": {},
   "outputs": [],
   "source": []
  }
 ],
 "metadata": {
  "kernelspec": {
   "display_name": "Python 3 (ipykernel)",
   "language": "python",
   "name": "python3"
  },
  "language_info": {
   "codemirror_mode": {
    "name": "ipython",
    "version": 3
   },
   "file_extension": ".py",
   "mimetype": "text/x-python",
   "name": "python",
   "nbconvert_exporter": "python",
   "pygments_lexer": "ipython3",
   "version": "3.9.7"
  }
 },
 "nbformat": 4,
 "nbformat_minor": 5
}
